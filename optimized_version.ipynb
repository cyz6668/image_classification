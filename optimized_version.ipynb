{
 "cells": [
  {
   "cell_type": "code",
   "execution_count": null,
   "metadata": {},
   "outputs": [],
   "source": [
    "tf=\"training_set.txt\"\n",
    "with open(tf) as f:\n",
    "    tfl=f.readlines()\n",
    "#print(tfl)\n",
    "outlist=[]\n",
    "for i in tfl:\n",
    "    outlist.append(i[:-1])\n",
    "print(outlist,'/n')\n"
   ]
  },
  {
   "cell_type": "code",
   "execution_count": null,
   "metadata": {},
   "outputs": [],
   "source": [
    "import pandas as pd\n",
    "import os\n",
    "import torch"
   ]
  },
  {
   "cell_type": "code",
   "execution_count": null,
   "metadata": {},
   "outputs": [],
   "source": [
    "#读取txt文本\n",
    "df =  pd.read_table(tf,sep='\\t',names=['name','label'])\n",
    "print(df)\n",
    "#然后选定label列下的数据，进行绘图\n",
    "d = df['label'].hist().get_figure()\n",
    "d.savefig(\"EDA.png\")\n",
    "\n"
   ]
  },
  {
   "cell_type": "code",
   "execution_count": null,
   "metadata": {},
   "outputs": [],
   "source": [
    "from sklearn.utils import shuffle\n",
    "def labelShuffling(dataFrame, groupByName='label'):\n",
    "    groupDataFrame = dataFrame.groupby(by=[groupByName])\n",
    "    labels = groupDataFrame.size()\n",
    "    print(\"length of label is \", len(labels))\n",
    "    maxNum = max(labels)\n",
    "    lst = pd.DataFrame()\n",
    "    for i in range(len(labels)):\n",
    "        print(\"Processing label  :\", i)\n",
    "        tmpGroupBy = groupDataFrame.get_group(i)\n",
    "        createdShuffleLabels = np.random.permutation(np.array(range(maxNum))) % labels[i]  # 随机排列组合\n",
    "        print(\"Num of the label is : \", labels[i])\n",
    "        lst=lst.append(tmpGroupBy.iloc[createdShuffleLabels], ignore_index=True)\n",
    "        # print(\"Done\")\n",
    "    # lst.to_csv('test1.csv', index=False)\n",
    "    return lst\n",
    "\n",
    "all_size = len(df)\n",
    "print(\"训练集大小：\", all_size)\n",
    "\n",
    "# train_image_list = df\n",
    "\n",
    "df1 = labelShuffling(df)\n",
    "df1 = shuffle(df1)\n",
    "print(\"shuffle后数据集大小：\", len(df1))\n",
    "\n",
    "train_image_path_list = df1['name'].values\n",
    "label_list = df1['label'].values\n",
    "label_list = torch.to_tensor(label_list, dtype='int64')\n",
    "train_label_list = torch.nn.functional.one_hot(label_list, num_classes=11)\n"
   ]
  }
 ],
 "metadata": {
  "language_info": {
   "name": "python"
  },
  "orig_nbformat": 4
 },
 "nbformat": 4,
 "nbformat_minor": 2
}
